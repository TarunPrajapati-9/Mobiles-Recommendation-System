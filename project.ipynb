{
 "cells": [
  {
   "cell_type": "code",
   "execution_count": 99,
   "id": "ba5dc450-0b35-41a0-9e14-479a90723b15",
   "metadata": {},
   "outputs": [],
   "source": [
    "import pandas as pd"
   ]
  },
  {
   "cell_type": "code",
   "execution_count": 100,
   "id": "eb0f2783-5fd6-473f-a5f2-821890443fc0",
   "metadata": {},
   "outputs": [],
   "source": [
    "df = pd.read_csv(\"mobile_recommendation_system_dataset.csv\")"
   ]
  },
  {
   "cell_type": "code",
   "execution_count": 101,
   "id": "592bc1fb-37b1-45cb-b58c-c88a8236fd0a",
   "metadata": {},
   "outputs": [
    {
     "data": {
      "text/plain": [
       "'Storage128 GBRAM6  SystemAndroid 12Processor TypeMediatek Dimensity 1080Processor Speed2.6 50MP 8MP 2MP 50MP 16MP 5G Capacity5000 Display Size16.94 cm (6.67 inch)Resolution2400 x 1080 PixelsResolution TypeFull HD+ AMOLED DisplayGPUARM Mali-G68 MC4Display TypeFull HD+ AMOLED DisplayOther Display FeaturesRefresh Rate: 120 Hz, Contrast: 5,000,000:1, 1920Hz PWM Dimming, Brightness Level: 16000:1, Peak Brightness: 900 nits'"
      ]
     },
     "execution_count": 101,
     "metadata": {},
     "output_type": "execute_result"
    }
   ],
   "source": [
    "df[\"corpus\"][0]"
   ]
  },
  {
   "cell_type": "code",
   "execution_count": 102,
   "id": "d802487a-b366-4c4b-842a-7ef2dc1005c3",
   "metadata": {},
   "outputs": [
    {
     "data": {
      "text/plain": [
       "name        0\n",
       "ratings     0\n",
       "price       0\n",
       "imgURL      0\n",
       "corpus     12\n",
       "dtype: int64"
      ]
     },
     "execution_count": 102,
     "metadata": {},
     "output_type": "execute_result"
    }
   ],
   "source": [
    "df.isnull().sum()"
   ]
  },
  {
   "cell_type": "code",
   "execution_count": 103,
   "id": "e0bc0c3d-d52e-4a38-9473-376731193bf5",
   "metadata": {},
   "outputs": [],
   "source": [
    "df[df.duplicated()]\n",
    "df.drop_duplicates(inplace=True)"
   ]
  },
  {
   "cell_type": "code",
   "execution_count": 104,
   "id": "0909f7b0-9afe-45b6-b693-4b455557edba",
   "metadata": {},
   "outputs": [
    {
     "data": {
      "text/plain": [
       "(2545, 5)"
      ]
     },
     "execution_count": 104,
     "metadata": {},
     "output_type": "execute_result"
    }
   ],
   "source": [
    "df.shape"
   ]
  },
  {
   "cell_type": "code",
   "execution_count": 105,
   "id": "03ae34d4-606e-44d3-b986-5bee17f924a6",
   "metadata": {},
   "outputs": [],
   "source": [
    "df = df.dropna()"
   ]
  },
  {
   "cell_type": "code",
   "execution_count": 106,
   "id": "3dc8c1e9-9f4a-413c-ad8a-b335aecaf300",
   "metadata": {},
   "outputs": [],
   "source": [
    "#convert to lower case\n",
    "df['corpus'] = df[\"corpus\"].apply(lambda x:x.lower())"
   ]
  },
  {
   "cell_type": "code",
   "execution_count": 107,
   "id": "40a909fa-1e88-4c45-882b-8ebd52f35aaf",
   "metadata": {},
   "outputs": [
    {
     "data": {
      "text/html": [
       "<div>\n",
       "<style scoped>\n",
       "    .dataframe tbody tr th:only-of-type {\n",
       "        vertical-align: middle;\n",
       "    }\n",
       "\n",
       "    .dataframe tbody tr th {\n",
       "        vertical-align: top;\n",
       "    }\n",
       "\n",
       "    .dataframe thead th {\n",
       "        text-align: right;\n",
       "    }\n",
       "</style>\n",
       "<table border=\"1\" class=\"dataframe\">\n",
       "  <thead>\n",
       "    <tr style=\"text-align: right;\">\n",
       "      <th></th>\n",
       "      <th>name</th>\n",
       "      <th>ratings</th>\n",
       "      <th>price</th>\n",
       "      <th>imgURL</th>\n",
       "      <th>corpus</th>\n",
       "    </tr>\n",
       "  </thead>\n",
       "  <tbody>\n",
       "    <tr>\n",
       "      <th>2297</th>\n",
       "      <td>APPLE iPhone 7 Plus (Silver, 128 GB)</td>\n",
       "      <td>4.5</td>\n",
       "      <td>22636</td>\n",
       "      <td>https://rukminim2.flixcart.com/image/312/312/k...</td>\n",
       "      <td>storage128 systemios 12processor typeapple a10...</td>\n",
       "    </tr>\n",
       "    <tr>\n",
       "      <th>2361</th>\n",
       "      <td>Infinix Hot 12 Pro (Racing Black, 64 GB)</td>\n",
       "      <td>4.2</td>\n",
       "      <td>9999</td>\n",
       "      <td>https://rukminim2.flixcart.com/image/312/312/x...</td>\n",
       "      <td>storage64 gbram6 gbexpandable storage256gb  sy...</td>\n",
       "    </tr>\n",
       "    <tr>\n",
       "      <th>1955</th>\n",
       "      <td>SAMSUNG Galaxy M34 5G without charger (Prism S...</td>\n",
       "      <td>3.7</td>\n",
       "      <td>24490</td>\n",
       "      <td>https://rukminim2.flixcart.com/image/312/312/x...</td>\n",
       "      <td>storage128 gbram8  systemandroid android 13pro...</td>\n",
       "    </tr>\n",
       "  </tbody>\n",
       "</table>\n",
       "</div>"
      ],
      "text/plain": [
       "                                                   name  ratings  price  \\\n",
       "2297               APPLE iPhone 7 Plus (Silver, 128 GB)      4.5  22636   \n",
       "2361           Infinix Hot 12 Pro (Racing Black, 64 GB)      4.2   9999   \n",
       "1955  SAMSUNG Galaxy M34 5G without charger (Prism S...      3.7  24490   \n",
       "\n",
       "                                                 imgURL  \\\n",
       "2297  https://rukminim2.flixcart.com/image/312/312/k...   \n",
       "2361  https://rukminim2.flixcart.com/image/312/312/x...   \n",
       "1955  https://rukminim2.flixcart.com/image/312/312/x...   \n",
       "\n",
       "                                                 corpus  \n",
       "2297  storage128 systemios 12processor typeapple a10...  \n",
       "2361  storage64 gbram6 gbexpandable storage256gb  sy...  \n",
       "1955  storage128 gbram8  systemandroid android 13pro...  "
      ]
     },
     "execution_count": 107,
     "metadata": {},
     "output_type": "execute_result"
    }
   ],
   "source": [
    "df.sample(3)"
   ]
  },
  {
   "cell_type": "code",
   "execution_count": 199,
   "id": "2608c177-28e1-4871-a678-4635a89eb272",
   "metadata": {},
   "outputs": [
    {
     "data": {
      "text/plain": [
       "name       OPPO Ravichandran Ashwin Limited Edition (Blac...\n",
       "ratings                                                  4.4\n",
       "price                                                ₹22,990\n",
       "imgURL     https://rukminim2.flixcart.com/image/312/312/j...\n",
       "corpus     storage64 gbram4 gbexpandable storage256gb  sy...\n",
       "Name: 1, dtype: object"
      ]
     },
     "execution_count": 199,
     "metadata": {},
     "output_type": "execute_result"
    }
   ],
   "source": [
    "new_df.iloc[1]"
   ]
  },
  {
   "cell_type": "code",
   "execution_count": 163,
   "id": "bd0eac97-1fae-4d66-a213-c4f43acbd7f5",
   "metadata": {},
   "outputs": [],
   "source": [
    "import re"
   ]
  },
  {
   "cell_type": "markdown",
   "id": "ded89454-fc79-4dc9-8d90-7a32292e5d1a",
   "metadata": {},
   "source": [
    "### Function to extract the base model (removes storage & color details)"
   ]
  },
  {
   "cell_type": "code",
   "execution_count": 164,
   "id": "eca8531d-bc5b-44b7-b4d5-20d41fb82465",
   "metadata": {},
   "outputs": [],
   "source": [
    "def extract_base_model(name):\n",
    "    if pd.isna(name):  # Handle missing values\n",
    "        return \"\"\n",
    "    # Remove everything inside parentheses (color & storage details)\n",
    "    return re.sub(r\"\\(.*?\\)\", \"\", name).strip()"
   ]
  },
  {
   "cell_type": "code",
   "execution_count": 165,
   "id": "49c9a3ef-ce6c-4e2a-9f02-9f6ecd916820",
   "metadata": {},
   "outputs": [],
   "source": [
    "df[\"base_name\"] = df['name'].apply(extract_base_model)"
   ]
  },
  {
   "cell_type": "code",
   "execution_count": 158,
   "id": "5e58c161-c9f7-4ff0-b139-13e4d2b95f82",
   "metadata": {},
   "outputs": [],
   "source": [
    "# Identify duplicates (more than 1 occurrence of base_name)\n",
    "duplicate_models = df[\"base_name\"].duplicated(keep=False)"
   ]
  },
  {
   "cell_type": "code",
   "execution_count": 159,
   "id": "ff34a55e-7627-4efa-9bf0-9ff15801be6a",
   "metadata": {},
   "outputs": [],
   "source": [
    "# Remove all rows that have similar variations (i.e., duplicates)\n",
    "new_df = df[~duplicate_models].drop(columns=[\"base_name\"])  # Keep only unique models"
   ]
  },
  {
   "cell_type": "code",
   "execution_count": 160,
   "id": "913e0a52-d236-43a5-9ee3-01f044657fa3",
   "metadata": {},
   "outputs": [
    {
     "data": {
      "text/plain": [
       "(202, 5)"
      ]
     },
     "execution_count": 160,
     "metadata": {},
     "output_type": "execute_result"
    }
   ],
   "source": [
    "new_df.shape"
   ]
  },
  {
   "cell_type": "code",
   "execution_count": 173,
   "id": "ae9ef9e5-fc81-4321-97e1-56e22e2a6ffb",
   "metadata": {},
   "outputs": [],
   "source": [
    "new_df = new_df.reset_index(drop=True)"
   ]
  },
  {
   "cell_type": "code",
   "execution_count": 174,
   "id": "abdc36dd-5c50-4c94-a8ef-c4baed76e5f3",
   "metadata": {},
   "outputs": [
    {
     "data": {
      "text/html": [
       "<div>\n",
       "<style scoped>\n",
       "    .dataframe tbody tr th:only-of-type {\n",
       "        vertical-align: middle;\n",
       "    }\n",
       "\n",
       "    .dataframe tbody tr th {\n",
       "        vertical-align: top;\n",
       "    }\n",
       "\n",
       "    .dataframe thead th {\n",
       "        text-align: right;\n",
       "    }\n",
       "</style>\n",
       "<table border=\"1\" class=\"dataframe\">\n",
       "  <thead>\n",
       "    <tr style=\"text-align: right;\">\n",
       "      <th></th>\n",
       "      <th>name</th>\n",
       "      <th>ratings</th>\n",
       "      <th>price</th>\n",
       "      <th>imgURL</th>\n",
       "      <th>corpus</th>\n",
       "    </tr>\n",
       "  </thead>\n",
       "  <tbody>\n",
       "    <tr>\n",
       "      <th>0</th>\n",
       "      <td>vivo X80 Pro (Cosmic Black, 256 GB)</td>\n",
       "      <td>4.5</td>\n",
       "      <td>14463</td>\n",
       "      <td>https://rukminim2.flixcart.com/image/312/312/l...</td>\n",
       "      <td>storage256 gbram12  systemandroid 12processor ...</td>\n",
       "    </tr>\n",
       "    <tr>\n",
       "      <th>1</th>\n",
       "      <td>OPPO Ravichandran Ashwin Limited Edition (Blac...</td>\n",
       "      <td>4.4</td>\n",
       "      <td>₹22,990</td>\n",
       "      <td>https://rukminim2.flixcart.com/image/312/312/j...</td>\n",
       "      <td>storage64 gbram4 gbexpandable storage256gb  sy...</td>\n",
       "    </tr>\n",
       "    <tr>\n",
       "      <th>2</th>\n",
       "      <td>vivo V23e (Sunshine Gold, 128 GB)</td>\n",
       "      <td>4.3</td>\n",
       "      <td>23999</td>\n",
       "      <td>https://rukminim2.flixcart.com/image/312/312/x...</td>\n",
       "      <td>storage128 gbram8  systemandroid android 12pro...</td>\n",
       "    </tr>\n",
       "  </tbody>\n",
       "</table>\n",
       "</div>"
      ],
      "text/plain": [
       "                                                name  ratings    price  \\\n",
       "0                vivo X80 Pro (Cosmic Black, 256 GB)      4.5    14463   \n",
       "1  OPPO Ravichandran Ashwin Limited Edition (Blac...      4.4  ₹22,990   \n",
       "2                  vivo V23e (Sunshine Gold, 128 GB)      4.3    23999   \n",
       "\n",
       "                                              imgURL  \\\n",
       "0  https://rukminim2.flixcart.com/image/312/312/l...   \n",
       "1  https://rukminim2.flixcart.com/image/312/312/j...   \n",
       "2  https://rukminim2.flixcart.com/image/312/312/x...   \n",
       "\n",
       "                                              corpus  \n",
       "0  storage256 gbram12  systemandroid 12processor ...  \n",
       "1  storage64 gbram4 gbexpandable storage256gb  sy...  \n",
       "2  storage128 gbram8  systemandroid android 12pro...  "
      ]
     },
     "execution_count": 174,
     "metadata": {},
     "output_type": "execute_result"
    }
   ],
   "source": [
    "new_df.head(3)"
   ]
  },
  {
   "cell_type": "code",
   "execution_count": 175,
   "id": "e8a7ac99-4fee-4109-a370-a7dfecfa07de",
   "metadata": {},
   "outputs": [
    {
     "data": {
      "text/plain": [
       "'storage256 gbram12  systemandroid 12processor typequalcomm snapdragon 8 gen 1 mobile platformprocessor speed3 50mp 48mp 12mp 8mp 50mp 48mp 12mp 8mp 32mp 32mp 5g capacity4700 display size17.22 cm (6.78 inch)resolution3200 x 1440 pixelsresolution typequad hdgpuqualcomm adreno 730display typequad hd amoled displayother display featuresscreen-to-body ratio: 92.2%'"
      ]
     },
     "execution_count": 175,
     "metadata": {},
     "output_type": "execute_result"
    }
   ],
   "source": [
    "new_df['corpus'][0]"
   ]
  },
  {
   "cell_type": "code",
   "execution_count": 176,
   "id": "159f46ce-38cc-4076-81bd-813c64299de8",
   "metadata": {},
   "outputs": [
    {
     "data": {
      "text/plain": [
       "'storage64 gbram4 gbexpandable storage256gb  systemandroid oreo 8.1.0processor typemtk p60 octa core 2.0 ghzprocessor speed2 16mp 25mp 3g capacity3400 display size15.82 cm (6.23 inch)resolution2280 x 1080 pixelsresolution typefull hd+other display featuresscreen contrast: 1500:1, corning gorilla glass 5'"
      ]
     },
     "execution_count": 176,
     "metadata": {},
     "output_type": "execute_result"
    }
   ],
   "source": [
    "new_df['corpus'][1]"
   ]
  },
  {
   "cell_type": "markdown",
   "id": "411048f4-4fb4-4320-bf81-6090acbfdfd5",
   "metadata": {},
   "source": [
    "## Count Frequency Of Words"
   ]
  },
  {
   "cell_type": "code",
   "execution_count": 177,
   "id": "eb66b846-9371-4ec0-98bb-c07189792aa5",
   "metadata": {},
   "outputs": [],
   "source": [
    "from sklearn.feature_extraction.text import CountVectorizer\n",
    "cv = CountVectorizer(max_features=200,stop_words=\"english\")"
   ]
  },
  {
   "cell_type": "code",
   "execution_count": 178,
   "id": "4c8461cb-352f-46d7-aad2-b98e3ea10636",
   "metadata": {},
   "outputs": [],
   "source": [
    "vectors = cv.fit_transform(new_df['corpus']).toarray()"
   ]
  },
  {
   "cell_type": "code",
   "execution_count": 179,
   "id": "50d96853-0798-4fef-966a-9558a2c9559f",
   "metadata": {},
   "outputs": [
    {
     "data": {
      "text/plain": [
       "array([[0, 0, 0, ..., 0, 0, 0],\n",
       "       [0, 0, 0, ..., 0, 0, 0],\n",
       "       [0, 0, 0, ..., 0, 0, 0],\n",
       "       ...,\n",
       "       [0, 0, 0, ..., 0, 0, 0],\n",
       "       [0, 0, 0, ..., 2, 2, 0],\n",
       "       [0, 0, 0, ..., 0, 1, 0]], dtype=int64)"
      ]
     },
     "execution_count": 179,
     "metadata": {},
     "output_type": "execute_result"
    }
   ],
   "source": [
    "vectors"
   ]
  },
  {
   "cell_type": "code",
   "execution_count": 180,
   "id": "db03f88e-83db-4cfe-9e00-8f310247575b",
   "metadata": {},
   "outputs": [
    {
     "data": {
      "text/plain": [
       "array(['000', '02', '09', '0processor', '1080', '108mp', '10processor',\n",
       "       '11processor', '12mp', '12processor', '13mp', '13processor',\n",
       "       '1500', '1600', '16mp', '1processor', '20', '22', '25mp', '2g',\n",
       "       '2mp', '32mp', '33', '36', '3d', '3g', '43', '480', '48mp', '49',\n",
       "       '4g', '50mp', '51', '54', '56', '5d', '5g', '5mp', '60',\n",
       "       '610display', '625', '63mp', '64mp', '66', '67', '720', '76', '78',\n",
       "       '7mother', '7mp', '800', '89', '8mp', '90', '92', '94', '95', '96',\n",
       "       '97', '9processor', 'adreno', 'amoled', 'amoleddisplay', 'android',\n",
       "       'aspect', 'bionic', 'body', 'brightness', 'capacity4000',\n",
       "       'capacity4500', 'capacity5000', 'capacity6000', 'cell',\n",
       "       'characters', 'chip', 'clock', 'cm', 'coating', 'color',\n",
       "       'colors16', 'colors16mother', 'colour', 'contrast', 'core',\n",
       "       'coreprocessor', 'corning', 'dci', 'dimensity', 'display',\n",
       "       'displaydisplay', 'displayother', 'eye', 'face', 'features20',\n",
       "       'featuresscreen', 'fingerprint', 'game', 'gamut', 'gbexpandable',\n",
       "       'gbram12', 'gbram2', 'gbram3', 'gbram4', 'gbram6', 'gbram8',\n",
       "       'ge8320display', 'ghzprocessor', 'glass', 'gorilla', 'gpuadreno',\n",
       "       'gpuarm', 'gpuimg', 'graphics', 'hd', 'hdr', 'helio', 'hz', 'inch',\n",
       "       'ips', 'languages', 'lcd', 'mali', 'max', 'maximum', 'mhz', 'mode',\n",
       "       'multi', 'multiple', 'nits', 'notmentioned', 'nougat', 'ntsc',\n",
       "       'octa', 'oleophobic', 'oreo', 'p3', 'panel', 'pie', 'pixel',\n",
       "       'pixels', 'pixelsresolution', 'processor', 'protection', 'rate',\n",
       "       'ratio', 'refresh', 'resistant', 'resolution1080',\n",
       "       'resolution1600', 'resolution1920', 'resolution2340',\n",
       "       'resolution2400', 'resolution2400x1080', 'resolution720', 'retina',\n",
       "       'sampling', 'saturation', 'screen', 'simultaneously', 'size12',\n",
       "       'size13', 'size15', 'size16', 'size17', 'snapdragon', 'speed1',\n",
       "       'speed2', 'speed3', 'storage128', 'storage128gb', 'storage16',\n",
       "       'storage1tb', 'storage256', 'storage256gb', 'storage32',\n",
       "       'storage512gb', 'storage64', 'sunlight', 'super', 'support',\n",
       "       'supports', 'supportyesother', 'systemandroid', 'systemios',\n",
       "       'tone', 'touch', 'true', 'typ', 'typea15', 'typeexynos',\n",
       "       'typefull', 'typehd', 'typeips', 'typeipsother', 'typemediatek',\n",
       "       'typequalcomm', 'typesuper', 'typical', 'wide', 'xdr'],\n",
       "      dtype=object)"
      ]
     },
     "execution_count": 180,
     "metadata": {},
     "output_type": "execute_result"
    }
   ],
   "source": [
    "cv.get_feature_names_out()"
   ]
  },
  {
   "cell_type": "markdown",
   "id": "a9c5385b-7ad0-4844-914e-91f82df4252c",
   "metadata": {},
   "source": [
    "## Find Cosine Distance"
   ]
  },
  {
   "cell_type": "code",
   "execution_count": 181,
   "id": "7ae81461-6367-4e26-bbd9-21e5a2a49e57",
   "metadata": {},
   "outputs": [],
   "source": [
    "from sklearn.metrics.pairwise import cosine_similarity"
   ]
  },
  {
   "cell_type": "code",
   "execution_count": 182,
   "id": "0262d1a5-1b55-4a07-a98c-c75135a75cdc",
   "metadata": {},
   "outputs": [],
   "source": [
    "similarity = cosine_similarity(vectors)"
   ]
  },
  {
   "cell_type": "code",
   "execution_count": 183,
   "id": "e57d623c-2e16-43d6-aba1-a9e4519cea1a",
   "metadata": {},
   "outputs": [
    {
     "data": {
      "text/plain": [
       "array([1.        , 0.26481357, 0.34262414, 0.17966445, 0.27989142,\n",
       "       0.31277162, 0.30096463, 0.21455956, 0.29529319, 0.46338901,\n",
       "       0.31257632, 0.55839996, 0.32398911, 0.27300945, 0.40472438,\n",
       "       0.37119162, 0.33883592, 0.32302914, 0.39009475, 0.32398911,\n",
       "       0.36567873, 0.33195618, 0.3310611 , 0.34994824, 0.20851441,\n",
       "       0.43356607, 0.31277162, 0.29488391, 0.31434731, 0.33366255,\n",
       "       0.35756176, 0.43346072, 0.34050261, 0.42911912, 0.32423223,\n",
       "       0.34050261, 0.1970276 , 0.37059755, 0.19304684, 0.32404336,\n",
       "       0.36607149, 0.26215206, 0.33288414, 0.29672121, 0.38227643,\n",
       "       0.27583864, 0.33114869, 0.31277162, 0.40867069, 0.36115756,\n",
       "       0.18650096, 0.47652848, 0.3317444 , 0.36178403, 0.21903427,\n",
       "       0.27583864, 0.38227643, 0.25802342, 0.30788057, 0.34050261,\n",
       "       0.19504737, 0.11009913, 0.46068738, 0.27814696, 0.32302914,\n",
       "       0.25329221, 0.23590713, 0.25802342, 0.24535825, 0.19034675,\n",
       "       0.23643312, 0.23643312, 0.30379065, 0.42562827, 0.27863911,\n",
       "       0.73383194, 0.31277162, 0.42859731, 0.53678887, 0.29721505,\n",
       "       0.39077377, 0.38227643, 0.28383562, 0.33935032, 0.45867056,\n",
       "       0.29488391, 0.25802342, 0.22470177, 0.24775204, 0.47026997,\n",
       "       0.32637668, 0.2908717 , 0.34410591, 0.35414412, 0.3848513 ,\n",
       "       0.26481357, 0.17376201, 0.26648545, 0.29206584, 0.26981625,\n",
       "       0.21869176, 0.18430245, 0.32302914, 0.334831  , 0.40893041,\n",
       "       0.25031949, 0.27814696, 0.15048232, 0.31212739, 0.48355786,\n",
       "       0.26648545, 0.27679808, 0.2207074 , 0.25369128, 0.27086817,\n",
       "       0.34410591, 0.41429674, 0.32174473, 0.42859731, 0.39125402,\n",
       "       0.14744196, 0.19264016, 0.26648545, 0.17879963, 0.44508182,\n",
       "       0.14805502, 0.26481357, 0.1970276 , 0.3551678 , 0.3250418 ,\n",
       "       0.47958315, 0.27989142, 0.40911485, 0.39096453, 0.29130943,\n",
       "       0.26375219, 0.38782893, 0.34782609, 0.26064302, 0.37775373,\n",
       "       0.32855141, 0.51797852, 0.32637668, 0.19034675, 0.35881857,\n",
       "       0.14303971, 0.35807332, 0.34403123, 0.46068738, 0.46487905,\n",
       "       0.2908717 , 0.42530692, 0.73568294, 0.33485541, 0.3391165 ,\n",
       "       0.88298415, 0.42389562, 0.2859164 , 0.61291133, 0.25802342,\n",
       "       0.1970276 , 0.31277162, 0.19781414, 0.25537696, 0.33006467,\n",
       "       0.36989147, 0.31478563, 0.26086957, 0.33362306, 0.27583864,\n",
       "       0.37827094, 0.24595018, 0.50658443, 0.3381815 , 0.18430245,\n",
       "       0.2331262 , 0.27300945, 0.36178403, 0.3889933 , 0.37756016,\n",
       "       0.43346072, 0.3505848 , 0.20241023, 0.18650096, 0.30717074,\n",
       "       0.27583864, 0.27414463, 0.20851441, 0.42367807, 0.23416772,\n",
       "       0.55750409, 0.37234155, 0.40893041, 0.25147785, 0.43041282,\n",
       "       0.41876284, 0.39317855, 0.25802342, 0.57104024, 0.34425764,\n",
       "       0.29257106, 0.22589062])"
      ]
     },
     "execution_count": 183,
     "metadata": {},
     "output_type": "execute_result"
    }
   ],
   "source": [
    "similarity[0]"
   ]
  },
  {
   "cell_type": "markdown",
   "id": "c3f47483-0338-441a-b451-4e4f558f8c9c",
   "metadata": {},
   "source": [
    "## Create Recommand Function"
   ]
  },
  {
   "cell_type": "code",
   "execution_count": 186,
   "id": "bb001f13-64b5-4932-afdb-e9bb04316f66",
   "metadata": {},
   "outputs": [
    {
     "data": {
      "text/plain": [
       "0"
      ]
     },
     "execution_count": 186,
     "metadata": {},
     "output_type": "execute_result"
    }
   ],
   "source": [
    "# for finding index\n",
    "new_df[new_df['name'] == 'vivo X80 Pro (Cosmic Black, 256 GB)'].index[0]"
   ]
  },
  {
   "cell_type": "code",
   "execution_count": 187,
   "id": "13f03e0e-b076-4de7-8acc-232c982e68fd",
   "metadata": {},
   "outputs": [
    {
     "data": {
      "text/plain": [
       "[(155, 0.8829841544156685),\n",
       " (152, 0.735682938029248),\n",
       " (75, 0.7338319404129166),\n",
       " (158, 0.6129113318342028),\n",
       " (198, 0.5710402407201607)]"
      ]
     },
     "execution_count": 187,
     "metadata": {},
     "output_type": "execute_result"
    }
   ],
   "source": [
    "# for sorting in reverse order with maintained index(TOP %)\n",
    "sorted(list(enumerate(similarity[0])),reverse=True,key=lambda x:x[1])[1:6]"
   ]
  },
  {
   "cell_type": "code",
   "execution_count": 189,
   "id": "f7161300-0158-461f-a1e5-2aba446c01d2",
   "metadata": {},
   "outputs": [
    {
     "data": {
      "text/plain": [
       "'vivo V23e (Sunshine Gold, 128 GB)'"
      ]
     },
     "execution_count": 189,
     "metadata": {},
     "output_type": "execute_result"
    }
   ],
   "source": [
    "# for finding name from index\n",
    "new_df.iloc[2][\"name\"]"
   ]
  },
  {
   "cell_type": "markdown",
   "id": "84acf953-1f6f-4ce3-854e-cc1fc1a93c77",
   "metadata": {},
   "source": []
  },
  {
   "cell_type": "code",
   "execution_count": 190,
   "id": "e62267a1-6d09-4f14-a04e-98c596f27c85",
   "metadata": {},
   "outputs": [],
   "source": [
    "def recommend(mobile):\n",
    "    mobile_index = new_df[new_df['name'] == mobile].index[0]\n",
    "    distances = similarity[mobile_index]\n",
    "    mobile_list = sorted(list(enumerate(distances)),reverse=True,key=lambda x:x[1])[1:6]\n",
    "\n",
    "    for i in mobile_list:\n",
    "        print(new_df.iloc[i[0]][\"name\"])"
   ]
  },
  {
   "cell_type": "code",
   "execution_count": 192,
   "id": "fd493343-7dda-43b7-880d-3627fc1f80f0",
   "metadata": {},
   "outputs": [
    {
     "name": "stdout",
     "output_type": "stream",
     "text": [
      "vivo V25 (Elegant Black, 128 GB)\n",
      "vivo X80 5G (Cosmic Black, 128 GB)\n",
      "10T 5G (Cosmic Black, 128 GB)\n",
      "vivo F1303\n",
      "Mi 11x Pro 5G (Lunar White, 256 GB)\n"
     ]
    }
   ],
   "source": [
    "recommend('vivo V23e (Sunshine Gold, 128 GB)')"
   ]
  },
  {
   "cell_type": "code",
   "execution_count": null,
   "id": "f537bb9c-0e9b-4bd3-a7b6-45f54dafac16",
   "metadata": {},
   "outputs": [],
   "source": []
  },
  {
   "cell_type": "code",
   "execution_count": 194,
   "id": "80e8e86f-72a0-4d67-9036-4cdc702198b9",
   "metadata": {},
   "outputs": [],
   "source": [
    "import pickle"
   ]
  },
  {
   "cell_type": "code",
   "execution_count": 195,
   "id": "f7393664-c037-4abe-a042-428725f1b840",
   "metadata": {},
   "outputs": [],
   "source": [
    "pickle.dump(new_df,open('mobiles.pkl','wb'))"
   ]
  },
  {
   "cell_type": "code",
   "execution_count": 197,
   "id": "f10ae642-a226-4832-ad70-8fa4597b45c6",
   "metadata": {},
   "outputs": [],
   "source": [
    "pickle.dump(similarity,open('similarity.pkl','wb'))"
   ]
  },
  {
   "cell_type": "code",
   "execution_count": null,
   "id": "e5c144e2-2edb-4a72-9c48-ce58bd738f2a",
   "metadata": {},
   "outputs": [],
   "source": []
  }
 ],
 "metadata": {
  "kernelspec": {
   "display_name": "Python 3 (ipykernel)",
   "language": "python",
   "name": "python3"
  },
  "language_info": {
   "codemirror_mode": {
    "name": "ipython",
    "version": 3
   },
   "file_extension": ".py",
   "mimetype": "text/x-python",
   "name": "python",
   "nbconvert_exporter": "python",
   "pygments_lexer": "ipython3",
   "version": "3.10.5"
  }
 },
 "nbformat": 4,
 "nbformat_minor": 5
}
